{
 "cells": [
  {
   "cell_type": "code",
   "execution_count": null,
   "metadata": {},
   "outputs": [],
   "source": [
    "import torch \n",
    "import torch.nn as nn"
   ]
  },
  {
   "cell_type": "code",
   "execution_count": 2,
   "metadata": {},
   "outputs": [
    {
     "name": "stdout",
     "output_type": "stream",
     "text": [
      "cpu\n"
     ]
    }
   ],
   "source": [
    "device=torch.device(\"cuda\" if torch.cuda.is_available() else \"cpu\")\n",
    "print(device)"
   ]
  },
  {
   "cell_type": "markdown",
   "metadata": {},
   "source": [
    "\n",
    "##` STEP 1:`\n",
    "\n",
    "#### Matrix Calculation of Self-Attention\n",
    "- The first step is to calculate the Query, Key, and Value matrices. We do that by packing our embeddings into a matrix X, and multiplying it by the weight matrices we’ve trained (WQ, WK, WV).\n",
    "![alt text](<IMG/Matrix Calculation of Self-Attention.jpg>)\n",
    "\n",
    "## `STEP 2:`\n",
    "Finally, since we’re dealing with matrices, we can condense steps two through six in one formula to calculate the outputs of the self-attention layer.\n",
    "![alt text](IMG/attention_score.jpg)\n",
    "![alt text](IMG/self_attn.jpg)\n",
    "\n",
    "##### MULTI HEAD ATTENTION \n",
    "The paper further refined the self-attention layer by adding a mechanism called “multi-headed” attention. This improves the performance of the attention layer in two ways:\n",
    "\n",
    "- It expands the model’s ability to focus on different positions. If we’re translating a sentence like “The animal didn’t cross the street because it was too tired”, it would be useful to know which word “it” refers to.\n",
    "\n",
    "- It gives the attention layer multiple “representation subspaces”. As we’ll see next, with multi-headed attention we have not only one, but multiple sets of Query/Key/Value weight matrices (the Transformer uses eight attention heads, so we end up with eight sets for each encoder/decoder). Each of these sets is randomly initialized. Then, after training, each set is used to project the input embeddings (or vectors from lower encoders/decoders) into a different representation subspace.\n",
    "\n",
    "![alt text](IMG/Multiheadattention.jpg)\n",
    "\n",
    "If we do the same self-attention calculation we outlined above, just eight different times with different weight matrices, we end up with eight different Z matrices\n",
    "\n",
    "![alt text](<IMG/Screenshot 2025-03-03 103818.jpg>)\n",
    "\n",
    "This leaves us with a bit of a challenge. The feed-forward layer is not expecting eight matrices – it’s expecting a single matrix (a vector for each word). So we need a way to condense these eight down into a single matrix.\n",
    "## `STEP 3:`\n",
    "How do we do that? We concat the matrices then multiply them by an additional weights matrix WO.\n",
    "\n",
    "![alt text](IMG/Multihead_attention.jpg)\n",
    "\n",
    "![alt text](<IMG/Screenshot 2025-03-03 103959.jpg>)\n"
   ]
  },
  {
   "cell_type": "code",
   "execution_count": null,
   "metadata": {},
   "outputs": [],
   "source": [
    "class SelfAttention(nn.Module):\n",
    "    ## embed_size represent the dmodel size\n",
    "    ##  heads represent no of head used in each layer of transformer\n",
    "    def __init__(self,embed_size,heads):\n",
    "        super(SelfAttention,self).__init__()\n",
    "        self.embed_size=embed_size\n",
    "        self.heads=heads\n",
    "        ## In this work we employ heads = 8 parallel attention layers, or heads. For each of these we use\n",
    "        ## dmodel/heads = 64. Here dmodel is embed_size\n",
    "        self.head_dim=embed_size//heads\n",
    "\n",
    "        assert (self.head_dim*heads==embed_size), \"Embedding size needs to be divisible by number of heads\"\n",
    "\n",
    "        self.values=nn.Linear(embed_size,embed_size,bias=False) ## input X: xW , W is a trainable paramter\n",
    "        self.keys=nn.Linear(embed_size,embed_size,bias=False)   \n",
    "        self.queries=nn.Linear(embed_size,embed_size,bias=False)\n",
    "        self.fc_out=nn.Linear(embed_size,embed_size,bias=False) ## Concat(head_outputs),W_o\n",
    "    def forward(self,values,keys,query,mask=None):\n",
    "        ##query=(N,query_len,embed_size)\n",
    "        N=query.shape[0] ## Number of training Examples\n",
    "        ## Number tokens in key,query,values \n",
    "        values_len,key_len,query_len=values.shape[1],keys.shape[1],query.shape[1]\n",
    "        ## For query,values,key shape is (N,len,embed_size)--> But we want this (N,len,head,head_dim) we know that embed_size=head*head_dim\n",
    "        values=self.values(values) ## (N,value_len,embed_size)\n",
    "        keys=self.keys(keys) ## (N,key_len,embed_size)\n",
    "        queries=self.queries(query) ## (N,query_len,embed_size)\n",
    "\n",
    "        ## Split the embedding into self.heads pieces\n",
    "        values=values.reshape(N,values_len,self.heads,self.head_dim) ## VALUE SHAPE: (N,values_len,head,head_dim)\n",
    "        keys=keys.reshape(N,key_len,self.heads,self.head_dim) ## KEYS SHAPE:(N,key_len,heads,head_dim)\n",
    "        queries=queries.reshape(N,query_len,self.heads,self.head_dim) ## QUERY SHAPE: (N,query_len,head,head_dim)\n",
    "        ## attn_scores (N,heads,key_len,query_len)-->nhqk\n",
    "        attn_scores=torch.einsum(\"nqhd,nkhd->nhqk\",[queries,keys])\n",
    "\n",
    "        ## Mask padded indices so their weight become 0\n",
    "        if mask is not None:\n",
    "            attn_scores=attn_scores.masked_fill(mask==0,float(\"-1e20\"))\n",
    "        ## Scale and Normalize\n",
    "        attention=torch.softmax(attn_scores/(self.head_dim**0.5),dim=3)\n",
    "\n",
    "        ## Attention Shape: (N,heads,query_len,key_len)\n",
    "        ## Values Shape: (N,value_len,heads,head_dim)\n",
    "        ## out after multiply :(N,query_len,heads,head_dim)\n",
    "        out =torch.einsum(\"nhql,nlhd->nqhd\",[attention,values])\n",
    "        ## We reshape and concatenate the last two dimenisons\n",
    "        ## resultant out shape will (N,query_len,embed_size)\n",
    "        out=out.reshape(N,query_len,self.heads*self.head_dim)\n",
    "        out=self.fc_out(out) ## (N,query_len,embed_size)\n",
    "        return out"
   ]
  }
 ],
 "metadata": {
  "kernelspec": {
   "display_name": "Python 3",
   "language": "python",
   "name": "python3"
  },
  "language_info": {
   "codemirror_mode": {
    "name": "ipython",
    "version": 3
   },
   "file_extension": ".py",
   "mimetype": "text/x-python",
   "name": "python",
   "nbconvert_exporter": "python",
   "pygments_lexer": "ipython3",
   "version": "3.9.10"
  }
 },
 "nbformat": 4,
 "nbformat_minor": 2
}
